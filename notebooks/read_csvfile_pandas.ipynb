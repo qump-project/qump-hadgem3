{
 "cells": [
  {
   "cell_type": "markdown",
   "metadata": {},
   "source": [
    "# Reading csv file\n",
    "\n",
    "This notebook will show how to read in a csv file used in the HadGEM3-GC3.05 PPE using the 'pandas' package. The csv file defines the parameter perturbations used for different PPE members, and pandas is used to read this into a 'DataFrame' object, from which you can easily get numpy arrays for different parameters/ensemble members, and correlate these with other arrays...\n"
   ]
  },
  {
   "cell_type": "code",
   "execution_count": 2,
   "metadata": {},
   "outputs": [],
   "source": [
    "# import the pandas module for reading/analysing the csv file\n",
    "import pandas as pd"
   ]
  },
  {
   "cell_type": "markdown",
   "metadata": {},
   "source": [
    "## 1. Loading csv file into pandas"
   ]
  },
  {
   "cell_type": "code",
   "execution_count": 3,
   "metadata": {},
   "outputs": [],
   "source": [
    "# Load csv file into pandas. Use 'skiprows' to \n",
    "ppe_dataframe = pd.read_csv(\"../data/GA7Parameters_fakedata.csv\",\n",
    "                            skiprows=range(1,24))\n",
    "\n",
    "# Make some modifications to index the DataFrame using RIPCODEs\n",
    "ripcode_list = [\"r{0:03d}i{1:01d}p{2:05d}\".format(r,i,p) for r,i,p in zip(ppe_dataframe['Realisation'].values, \n",
    "                                                                          ppe_dataframe['Initialisation'].values, \n",
    "                                                                          ppe_dataframe['Parameters'].values)]\n",
    "ppe_dataframe.index = ripcode_list\n",
    "# Ignore the first few columns of the csv file\n",
    "ppe_dataframe = ppe_dataframe.iloc[:,2:]"
   ]
  },
  {
   "cell_type": "code",
   "execution_count": 4,
   "metadata": {},
   "outputs": [
    {
     "name": "stdout",
     "output_type": "stream",
     "text": [
      "              Realisation  Initialisation  Parameters  ent_fac_dp  ent_fac_md  \\\n",
      "r001i1p00000            1               1           0    1.016496    1.146634   \n",
      "r001i1p00090            1               1          90    0.750826    1.731638   \n",
      "r001i1p00605            1               1         605    1.019073    0.418173   \n",
      "r001i1p00834            1               1         834    0.499738    1.795783   \n",
      "r001i1p01113            1               1        1113    0.642581    1.488968   \n",
      "\n",
      "              amdet_fac     r_det  cca_md_knob  cca_dp_knob  cca_sh_knob  ...  \\\n",
      "r001i1p00000   1.746170  0.570518     0.141356     0.257164     0.298939  ...   \n",
      "r001i1p00090  10.903591  0.567319     0.127835     0.192985     0.646975  ...   \n",
      "r001i1p00605   1.442231  0.726836     0.373661     0.078245     0.324528  ...   \n",
      "r001i1p00834   5.783816  0.804711     0.121183     0.409278     0.481623  ...   \n",
      "r001i1p01113   6.393224  0.897616     0.167089     0.233207     0.207252  ...   \n",
      "\n",
      "                     r0  rho_snow_fresh    tupp_io     f0_io  dz0v_dh_io  \\\n",
      "r001i1p00000  68.848303       95.911249  37.932150  0.761277    0.092510   \n",
      "r001i1p00090  74.576466      100.334423  31.069815  0.904458    0.105328   \n",
      "r001i1p00605  56.744493      118.862844  31.593024  0.822014    0.120164   \n",
      "r001i1p00834  67.269973      115.180221  32.142344  0.714101    0.091848   \n",
      "r001i1p01113  67.297182      111.856093  36.974621  0.739745    0.141346   \n",
      "\n",
      "                nl0_io  rootd_ft_io       psm  delta_toa  co2_pathway_file  \n",
      "r001i1p00000  0.108838     2.587960  1.293903   0.933757             RCP85  \n",
      "r001i1p00090  0.074082     2.858424  1.596978  -0.380659             aldrq  \n",
      "r001i1p00605  0.032754     0.431968  1.345337  -0.057727      bcc-csm1-1-m  \n",
      "r001i1p00834  0.077518     2.954868  1.240819  -4.039069             aldpp  \n",
      "r001i1p01113  0.071949     4.925862  1.684013  -4.012240             aldsj  \n",
      "\n",
      "[5 rows x 57 columns]\n"
     ]
    }
   ],
   "source": [
    "# Take a look at the DataFrame\n",
    "print(ppe_dataframe.head(5))"
   ]
  },
  {
   "cell_type": "markdown",
   "metadata": {},
   "source": [
    "## 2. Extracting parameter values"
   ]
  },
  {
   "cell_type": "markdown",
   "metadata": {},
   "source": [
    "### 2.1 For a particular parameter"
   ]
  },
  {
   "cell_type": "code",
   "execution_count": 5,
   "metadata": {},
   "outputs": [
    {
     "name": "stdout",
     "output_type": "stream",
     "text": [
      "r001i1p00000    1.146634\n",
      "r001i1p00090    1.731638\n",
      "r001i1p00605    0.418173\n",
      "r001i1p00834    1.795783\n",
      "r001i1p01113    1.488968\n",
      "r001i1p01554    1.343862\n",
      "r001i1p01649    1.833080\n",
      "r001i1p01843    1.517777\n",
      "r001i1p01935    1.322011\n",
      "r001i1p02089    1.606675\n",
      "r001i1p02123    0.599666\n",
      "r001i1p02242    1.489616\n",
      "r001i1p02305    0.956358\n",
      "r001i1p02335    1.563581\n",
      "r001i1p02491    0.678419\n",
      "r001i1p02753    0.858807\n",
      "r001i1p02832    1.805310\n",
      "r001i1p02868    1.843024\n",
      "r001i1p02884    0.877097\n",
      "r001i1p02914    0.809968\n",
      "Name: ent_fac_md, dtype: float64\n"
     ]
    }
   ],
   "source": [
    "# Get parameter values for ent_fac_md\n",
    "param = \"ent_fac_md\"\n",
    "param_values = ppe_dataframe[param]\n",
    "\n",
    "# Print as pandas object\n",
    "print(param_values)"
   ]
  },
  {
   "cell_type": "code",
   "execution_count": 6,
   "metadata": {},
   "outputs": [
    {
     "name": "stdout",
     "output_type": "stream",
     "text": [
      "[1.14663421 1.73163831 0.41817268 1.79578334 1.48896775 1.3438621\n",
      " 1.83308001 1.51777651 1.32201146 1.60667473 0.59966587 1.48961569\n",
      " 0.95635754 1.56358111 0.67841864 0.85880689 1.80530972 1.84302414\n",
      " 0.8770968  0.80996823]\n"
     ]
    }
   ],
   "source": [
    "# Print as a numpy array\n",
    "param_values_array = param_values.values\n",
    "print(param_values_array)"
   ]
  },
  {
   "cell_type": "markdown",
   "metadata": {},
   "source": [
    "### 2.2 For a particular member"
   ]
  },
  {
   "cell_type": "code",
   "execution_count": 7,
   "metadata": {
    "scrolled": true
   },
   "outputs": [
    {
     "name": "stdout",
     "output_type": "stream",
     "text": [
      "Realisation                       1\n",
      "Initialisation                    1\n",
      "Parameters                      834\n",
      "ent_fac_dp                 0.499738\n",
      "ent_fac_md                  1.79578\n",
      "amdet_fac                   5.78382\n",
      "r_det                      0.804711\n",
      "cca_md_knob                0.121183\n",
      "cca_dp_knob                0.409278\n",
      "cca_sh_knob                0.481623\n",
      "mparwtr                  0.00149182\n",
      "qlmin                   0.000217179\n",
      "gwd_frc                     5.17269\n",
      "fbcd                        8.28809\n",
      "gwd_fsat                   0.992424\n",
      "gsharp                     0.795067\n",
      "nsigma                      1.74482\n",
      "g0_rp                       6.80124\n",
      "ricrit_rp                   1.99212\n",
      "orog_drag_param            0.427476\n",
      "a_ent_1_rp                 0.383495\n",
      "g1_rp                       1.02005\n",
      "zhloc_depth_fac            0.724076\n",
      "par_mezcla                 0.217905\n",
      "lambda_min_rp                19.526\n",
      "dec_thres_cloud           0.0371336\n",
      "dec_thres_cu              0.0804083\n",
      "forced_cu_fac               0.76361\n",
      "dbsdtbs_turb_0           0.00070629\n",
      "two_d_fsd_factor            1.43912\n",
      "dp_corr_strat               24111.6\n",
      "ice_width                  0.642786\n",
      "c_r_correl                  0.49528\n",
      "m_ci                       0.602281\n",
      "ai                         0.024616\n",
      "x1r                        0.156192\n",
      "ar                         0.936373\n",
      "mp_dz_scal                  0.91688\n",
      "ps_anth_so2_emiss           1.33242\n",
      "ps_dry_depvel_so2           1.24716\n",
      "ps_sigma_updraught         0.587435\n",
      "biom_aer_ems_scaling        3.17293\n",
      "ps_natl_ss_emiss           0.957404\n",
      "ps_acc_cor_scav             1.67638\n",
      "param_cloud_hplus           6.40845\n",
      "ps_natl_dms_emiss          0.989697\n",
      "u10_max_coare               19.7593\n",
      "r0                            67.27\n",
      "rho_snow_fresh               115.18\n",
      "tupp_io                     32.1423\n",
      "f0_io                      0.714101\n",
      "dz0v_dh_io                0.0918475\n",
      "nl0_io                    0.0775185\n",
      "rootd_ft_io                 2.95487\n",
      "psm                         1.24082\n",
      "delta_toa                  -4.03907\n",
      "co2_pathway_file              aldpp\n",
      "Name: r001i1p00834, dtype: object\n"
     ]
    }
   ],
   "source": [
    "# Get parameter values for member 'r001i1p00834'\n",
    "member = \"r001i1p00834\"\n",
    "member_values = ppe_dataframe.loc[member]\n",
    "\n",
    "# Print as pandas object\n",
    "print(member_values)"
   ]
  },
  {
   "cell_type": "code",
   "execution_count": 8,
   "metadata": {},
   "outputs": [
    {
     "name": "stdout",
     "output_type": "stream",
     "text": [
      "[1 1 834 0.499737812 1.795783339 5.783815837000001 0.804710523 0.121182876\n",
      " 0.409277824 0.48162338 0.0014918179999999998 0.00021717900000000002\n",
      " 5.172687355 8.288094148999999 0.9924237229999999 0.79506674\n",
      " 1.7448213419999998 6.801242586 1.9921189380000002 0.427476113 0.383494826\n",
      " 1.020052887 0.724075977 0.217904868 19.52595548 0.037133647 0.080408287\n",
      " 0.7636096529999999 0.00070629 1.4391249069999998 24111.63506 0.642786286\n",
      " 0.495280059 0.602281459 0.024616039 0.156192459 0.9363726640000001\n",
      " 0.916880459 1.332416534 1.247157284 0.587435046 3.172929561\n",
      " 0.9574039940000001 1.676383411 6.408450285 0.9896967870000001 19.7593117\n",
      " 67.26997298 115.1802206 32.14234431 0.7141012240000001\n",
      " 0.09184753400000001 0.07751848900000001 2.954868254 1.240819231\n",
      " -4.03906877 'aldpp']\n"
     ]
    }
   ],
   "source": [
    "# Print as a numpy array\n",
    "member_values_array = member_values.values\n",
    "print(member_values_array)"
   ]
  },
  {
   "cell_type": "markdown",
   "metadata": {},
   "source": [
    "### 2.3 For a particular parameter and member"
   ]
  },
  {
   "cell_type": "code",
   "execution_count": 9,
   "metadata": {},
   "outputs": [
    {
     "name": "stdout",
     "output_type": "stream",
     "text": [
      "1.795783339\n"
     ]
    }
   ],
   "source": [
    "# Get parameter value 'ent_fac_md' for member 'r001i1p00834'\n",
    "member_param_value = ppe_dataframe.loc[member][param]\n",
    "\n",
    "# Print\n",
    "print(member_param_value)"
   ]
  },
  {
   "cell_type": "code",
   "execution_count": null,
   "metadata": {},
   "outputs": [],
   "source": []
  },
  {
   "cell_type": "code",
   "execution_count": null,
   "metadata": {},
   "outputs": [],
   "source": []
  },
  {
   "cell_type": "code",
   "execution_count": null,
   "metadata": {},
   "outputs": [],
   "source": []
  },
  {
   "cell_type": "code",
   "execution_count": null,
   "metadata": {},
   "outputs": [],
   "source": []
  },
  {
   "cell_type": "code",
   "execution_count": null,
   "metadata": {},
   "outputs": [],
   "source": []
  },
  {
   "cell_type": "code",
   "execution_count": null,
   "metadata": {},
   "outputs": [],
   "source": []
  },
  {
   "cell_type": "code",
   "execution_count": null,
   "metadata": {},
   "outputs": [],
   "source": []
  }
 ],
 "metadata": {
  "kernelspec": {
   "display_name": "default-current",
   "language": "python",
   "name": "default-current"
  },
  "language_info": {
   "codemirror_mode": {
    "name": "ipython",
    "version": 3
   },
   "file_extension": ".py",
   "mimetype": "text/x-python",
   "name": "python",
   "nbconvert_exporter": "python",
   "pygments_lexer": "ipython3",
   "version": "3.6.8"
  }
 },
 "nbformat": 4,
 "nbformat_minor": 2
}
