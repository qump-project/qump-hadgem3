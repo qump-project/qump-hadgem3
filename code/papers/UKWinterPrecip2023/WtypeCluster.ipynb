{
 "cells": [
  {
   "cell_type": "code",
   "execution_count": 1,
   "metadata": {},
   "outputs": [],
   "source": [
    "import os, glob\n",
    "import numpy\n",
    "import matplotlib\n",
    "import matplotlib.pyplot as plt\n",
    "\n",
    "import iris\n",
    "from qumpy_lite import *\n",
    "\n",
    "from sklearn.cluster import DBSCAN, KMeans\n",
    "from sklearn.metrics.pairwise import chi2_kernel\n",
    "import numpy as np\n",
    "\n",
    "\n",
    "\n",
    "%matplotlib inline"
   ]
  },
  {
   "cell_type": "code",
   "execution_count": 2,
   "metadata": {},
   "outputs": [],
   "source": [
    "def get_index2(x, y):\n",
    "    index2 = list()\n",
    "    pos = 0\n",
    "    for i in y:\n",
    "        ii = x.index(i, pos)\n",
    "        pos = ii\n",
    "        index2.append(ii)\n",
    "    return index2\n",
    "\n"
   ]
  },
  {
   "cell_type": "code",
   "execution_count": 3,
   "metadata": {},
   "outputs": [
    {
     "name": "stdout",
     "output_type": "stream",
     "text": [
      "In parent directory\n"
     ]
    }
   ],
   "source": [
    "if True:\n",
    "    current = os.getcwd()\n",
    "    parent = os.path.dirname(current)\n",
    "    sys.path.insert(0, parent)\n",
    "    from paths import *\n",
    "else:\n",
    "    from paths import *\n",
    "    \n",
    "searchstr = os.path.join(coupleddir, 'UK', 'histrcp8p5_%s_uk.nc')\n",
    "cachedir = os.path.join(tempdir, 'cache', 'wt_jets')\n",
    "figpath = os.path.join(plotdir, 'paper_ukwinter_precip')\n",
    "jets_dir = os.path.join(coupleddir, 'jets', 'gcm_jets')\n",
    "\n"
   ]
  },
  {
   "cell_type": "code",
   "execution_count": 4,
   "metadata": {},
   "outputs": [
    {
     "name": "stderr",
     "output_type": "stream",
     "text": [
      "/opt/miniconda3/envs/py3_iris/lib/python3.8/site-packages/iris/fileformats/_nc_load_rules/helpers.py:223: UnknownCellMethodWarning: NetCDF variable 'air_pressure_at_sea_level' contains unknown cell method 'classify'\n",
      "  warnings.warn(message=msg, category=UnknownCellMethodWarning)\n",
      "/opt/miniconda3/envs/py3_iris/lib/python3.8/site-packages/iris/fileformats/_nc_load_rules/helpers.py:223: UnknownCellMethodWarning: NetCDF variable 'air_pressure_at_sea_level' contains unknown cell method 'classify'\n",
      "  warnings.warn(message=msg, category=UnknownCellMethodWarning)\n",
      "/opt/miniconda3/envs/py3_iris/lib/python3.8/site-packages/iris/fileformats/_nc_load_rules/helpers.py:223: UnknownCellMethodWarning: NetCDF variable 'air_pressure_at_sea_level' contains unknown cell method 'classify'\n",
      "  warnings.warn(message=msg, category=UnknownCellMethodWarning)\n",
      "/opt/miniconda3/envs/py3_iris/lib/python3.8/site-packages/iris/fileformats/_nc_load_rules/helpers.py:223: UnknownCellMethodWarning: NetCDF variable 'air_pressure_at_sea_level' contains unknown cell method 'classify'\n",
      "  warnings.warn(message=msg, category=UnknownCellMethodWarning)\n",
      "/opt/miniconda3/envs/py3_iris/lib/python3.8/site-packages/iris/fileformats/_nc_load_rules/helpers.py:223: UnknownCellMethodWarning: NetCDF variable 'air_pressure_at_sea_level' contains unknown cell method 'classify'\n",
      "  warnings.warn(message=msg, category=UnknownCellMethodWarning)\n",
      "/opt/miniconda3/envs/py3_iris/lib/python3.8/site-packages/iris/fileformats/_nc_load_rules/helpers.py:223: UnknownCellMethodWarning: NetCDF variable 'air_pressure_at_sea_level' contains unknown cell method 'classify'\n",
      "  warnings.warn(message=msg, category=UnknownCellMethodWarning)\n",
      "/opt/miniconda3/envs/py3_iris/lib/python3.8/site-packages/iris/fileformats/_nc_load_rules/helpers.py:223: UnknownCellMethodWarning: NetCDF variable 'air_pressure_at_sea_level' contains unknown cell method 'classify'\n",
      "  warnings.warn(message=msg, category=UnknownCellMethodWarning)\n",
      "/opt/miniconda3/envs/py3_iris/lib/python3.8/site-packages/iris/fileformats/_nc_load_rules/helpers.py:223: UnknownCellMethodWarning: NetCDF variable 'air_pressure_at_sea_level' contains unknown cell method 'classify'\n",
      "  warnings.warn(message=msg, category=UnknownCellMethodWarning)\n",
      "/opt/miniconda3/envs/py3_iris/lib/python3.8/site-packages/iris/fileformats/_nc_load_rules/helpers.py:223: UnknownCellMethodWarning: NetCDF variable 'air_pressure_at_sea_level' contains unknown cell method 'classify'\n",
      "  warnings.warn(message=msg, category=UnknownCellMethodWarning)\n",
      "/opt/miniconda3/envs/py3_iris/lib/python3.8/site-packages/iris/fileformats/_nc_load_rules/helpers.py:223: UnknownCellMethodWarning: NetCDF variable 'air_pressure_at_sea_level' contains unknown cell method 'classify'\n",
      "  warnings.warn(message=msg, category=UnknownCellMethodWarning)\n",
      "/opt/miniconda3/envs/py3_iris/lib/python3.8/site-packages/iris/fileformats/_nc_load_rules/helpers.py:223: UnknownCellMethodWarning: NetCDF variable 'air_pressure_at_sea_level' contains unknown cell method 'classify'\n",
      "  warnings.warn(message=msg, category=UnknownCellMethodWarning)\n",
      "/opt/miniconda3/envs/py3_iris/lib/python3.8/site-packages/iris/fileformats/_nc_load_rules/helpers.py:223: UnknownCellMethodWarning: NetCDF variable 'air_pressure_at_sea_level' contains unknown cell method 'classify'\n",
      "  warnings.warn(message=msg, category=UnknownCellMethodWarning)\n",
      "/opt/miniconda3/envs/py3_iris/lib/python3.8/site-packages/iris/fileformats/_nc_load_rules/helpers.py:223: UnknownCellMethodWarning: NetCDF variable 'air_pressure_at_sea_level' contains unknown cell method 'classify'\n",
      "  warnings.warn(message=msg, category=UnknownCellMethodWarning)\n",
      "/opt/miniconda3/envs/py3_iris/lib/python3.8/site-packages/iris/fileformats/_nc_load_rules/helpers.py:223: UnknownCellMethodWarning: NetCDF variable 'air_pressure_at_sea_level' contains unknown cell method 'classify'\n",
      "  warnings.warn(message=msg, category=UnknownCellMethodWarning)\n",
      "/opt/miniconda3/envs/py3_iris/lib/python3.8/site-packages/iris/fileformats/_nc_load_rules/helpers.py:223: UnknownCellMethodWarning: NetCDF variable 'air_pressure_at_sea_level' contains unknown cell method 'classify'\n",
      "  warnings.warn(message=msg, category=UnknownCellMethodWarning)\n",
      "/opt/miniconda3/envs/py3_iris/lib/python3.8/site-packages/iris/fileformats/_nc_load_rules/helpers.py:223: UnknownCellMethodWarning: NetCDF variable 'air_pressure_at_sea_level' contains unknown cell method 'classify'\n",
      "  warnings.warn(message=msg, category=UnknownCellMethodWarning)\n",
      "/opt/miniconda3/envs/py3_iris/lib/python3.8/site-packages/iris/fileformats/_nc_load_rules/helpers.py:223: UnknownCellMethodWarning: NetCDF variable 'air_pressure_at_sea_level' contains unknown cell method 'classify'\n",
      "  warnings.warn(message=msg, category=UnknownCellMethodWarning)\n",
      "/opt/miniconda3/envs/py3_iris/lib/python3.8/site-packages/iris/fileformats/_nc_load_rules/helpers.py:223: UnknownCellMethodWarning: NetCDF variable 'air_pressure_at_sea_level' contains unknown cell method 'classify'\n",
      "  warnings.warn(message=msg, category=UnknownCellMethodWarning)\n",
      "/opt/miniconda3/envs/py3_iris/lib/python3.8/site-packages/iris/fileformats/_nc_load_rules/helpers.py:223: UnknownCellMethodWarning: NetCDF variable 'air_pressure_at_sea_level' contains unknown cell method 'classify'\n",
      "  warnings.warn(message=msg, category=UnknownCellMethodWarning)\n",
      "/opt/miniconda3/envs/py3_iris/lib/python3.8/site-packages/iris/fileformats/_nc_load_rules/helpers.py:223: UnknownCellMethodWarning: NetCDF variable 'air_pressure_at_sea_level' contains unknown cell method 'classify'\n",
      "  warnings.warn(message=msg, category=UnknownCellMethodWarning)\n"
     ]
    },
    {
     "name": "stdout",
     "output_type": "stream",
     "text": [
      "air_pressure_at_sea_level / (1)     (realization: 20; time: 18000)\n",
      "    Dimension coordinates:\n",
      "        realization                             x         -\n",
      "        time                                    -         x\n",
      "    Auxiliary coordinates:\n",
      "        day                                     -         x\n",
      "        month                                   -         x\n",
      "        month_number                            -         x\n",
      "        season_year                             -         x\n",
      "        year                                    -         x\n",
      "        yyyymmdd                                -         x\n",
      "    Scalar coordinates:\n",
      "        forecast_reference_time     1896-12-01 00:00:00\n",
      "        latitude                    52.5 degrees, bound=(32.5, 72.5) degrees\n",
      "        longitude                   -5.0 degrees, bound=(-32.5, 22.5) degrees\n",
      "    Cell methods:\n",
      "        mean                        time (1 hour)\n",
      "        classify                    latitude, longitude\n",
      "    Attributes:\n",
      "        Conventions                 CF-1.5\n",
      "        source centroids            emslp_35N-70N_30W-20E_30_clusters_whole_year_anom.nc\n"
     ]
    }
   ],
   "source": [
    "\n",
    "# !ls {wt_dir}\n",
    "\n",
    "# fwt = sorted(glob.glob(os.path.join(wt_dir, '*.nc')))\n",
    "fwt = os.path.join(wt_dir, 'decider_classification_8_clusters_r001i1p*.nc')\n",
    "             \n",
    "wtypes = iris.load_cube(fwt)\n",
    "add_yyyymmdd(wtypes, 'time')\n",
    "iris.coord_categorisation.add_season_year(wtypes, 'time')\n",
    "iris.coord_categorisation.add_month_number(wtypes, 'time')\n",
    "wtypes.coord('time').bounds = None\n",
    "wtypes = wtypes.extract(iris.Constraint(month_number=[12, 1, 2]))\n",
    "\n",
    "print(wtypes)\n",
    "\n",
    "common_yyyymmdd = wtypes.coord('yyyymmdd').points\n",
    "yyyymm = [ymd[:6] for ymd in common_yyyymmdd]\n",
    "\n"
   ]
  },
  {
   "cell_type": "code",
   "execution_count": 5,
   "metadata": {},
   "outputs": [
    {
     "name": "stdout",
     "output_type": "stream",
     "text": [
      "decider_classification_30_clusters_r001i1p00000.nc\r\n",
      "decider_classification_30_clusters_r001i1p00090.nc\r\n",
      "decider_classification_30_clusters_r001i1p00605.nc\r\n",
      "decider_classification_30_clusters_r001i1p00834.nc\r\n",
      "decider_classification_30_clusters_r001i1p01113.nc\r\n",
      "decider_classification_30_clusters_r001i1p01554.nc\r\n",
      "decider_classification_30_clusters_r001i1p01649.nc\r\n",
      "decider_classification_30_clusters_r001i1p01843.nc\r\n",
      "decider_classification_30_clusters_r001i1p01935.nc\r\n",
      "decider_classification_30_clusters_r001i1p02089.nc\r\n",
      "decider_classification_30_clusters_r001i1p02123.nc\r\n",
      "decider_classification_30_clusters_r001i1p02242.nc\r\n",
      "decider_classification_30_clusters_r001i1p02305.nc\r\n",
      "decider_classification_30_clusters_r001i1p02335.nc\r\n",
      "decider_classification_30_clusters_r001i1p02491.nc\r\n",
      "decider_classification_30_clusters_r001i1p02753.nc\r\n",
      "decider_classification_30_clusters_r001i1p02832.nc\r\n",
      "decider_classification_30_clusters_r001i1p02868.nc\r\n",
      "decider_classification_30_clusters_r001i1p02884.nc\r\n",
      "decider_classification_30_clusters_r001i1p02914.nc\r\n"
     ]
    }
   ],
   "source": [
    "!ls /Users/davidsexton/Data/hadgem3/coupled/Fereday_clustering/daily_analysis_updated30/"
   ]
  },
  {
   "cell_type": "code",
   "execution_count": 6,
   "metadata": {},
   "outputs": [
    {
     "name": "stderr",
     "output_type": "stream",
     "text": [
      "/opt/miniconda3/envs/py3_iris/lib/python3.8/site-packages/iris/fileformats/_nc_load_rules/helpers.py:223: UnknownCellMethodWarning: NetCDF variable 'air_pressure_at_sea_level' contains unknown cell method 'classify'\n",
      "  warnings.warn(message=msg, category=UnknownCellMethodWarning)\n",
      "/opt/miniconda3/envs/py3_iris/lib/python3.8/site-packages/iris/fileformats/_nc_load_rules/helpers.py:223: UnknownCellMethodWarning: NetCDF variable 'air_pressure_at_sea_level' contains unknown cell method 'classify'\n",
      "  warnings.warn(message=msg, category=UnknownCellMethodWarning)\n",
      "/opt/miniconda3/envs/py3_iris/lib/python3.8/site-packages/iris/fileformats/_nc_load_rules/helpers.py:223: UnknownCellMethodWarning: NetCDF variable 'air_pressure_at_sea_level' contains unknown cell method 'classify'\n",
      "  warnings.warn(message=msg, category=UnknownCellMethodWarning)\n",
      "/opt/miniconda3/envs/py3_iris/lib/python3.8/site-packages/iris/fileformats/_nc_load_rules/helpers.py:223: UnknownCellMethodWarning: NetCDF variable 'air_pressure_at_sea_level' contains unknown cell method 'classify'\n",
      "  warnings.warn(message=msg, category=UnknownCellMethodWarning)\n",
      "/opt/miniconda3/envs/py3_iris/lib/python3.8/site-packages/iris/fileformats/_nc_load_rules/helpers.py:223: UnknownCellMethodWarning: NetCDF variable 'air_pressure_at_sea_level' contains unknown cell method 'classify'\n",
      "  warnings.warn(message=msg, category=UnknownCellMethodWarning)\n",
      "/opt/miniconda3/envs/py3_iris/lib/python3.8/site-packages/iris/fileformats/_nc_load_rules/helpers.py:223: UnknownCellMethodWarning: NetCDF variable 'air_pressure_at_sea_level' contains unknown cell method 'classify'\n",
      "  warnings.warn(message=msg, category=UnknownCellMethodWarning)\n",
      "/opt/miniconda3/envs/py3_iris/lib/python3.8/site-packages/iris/fileformats/_nc_load_rules/helpers.py:223: UnknownCellMethodWarning: NetCDF variable 'air_pressure_at_sea_level' contains unknown cell method 'classify'\n",
      "  warnings.warn(message=msg, category=UnknownCellMethodWarning)\n",
      "/opt/miniconda3/envs/py3_iris/lib/python3.8/site-packages/iris/fileformats/_nc_load_rules/helpers.py:223: UnknownCellMethodWarning: NetCDF variable 'air_pressure_at_sea_level' contains unknown cell method 'classify'\n",
      "  warnings.warn(message=msg, category=UnknownCellMethodWarning)\n",
      "/opt/miniconda3/envs/py3_iris/lib/python3.8/site-packages/iris/fileformats/_nc_load_rules/helpers.py:223: UnknownCellMethodWarning: NetCDF variable 'air_pressure_at_sea_level' contains unknown cell method 'classify'\n",
      "  warnings.warn(message=msg, category=UnknownCellMethodWarning)\n",
      "/opt/miniconda3/envs/py3_iris/lib/python3.8/site-packages/iris/fileformats/_nc_load_rules/helpers.py:223: UnknownCellMethodWarning: NetCDF variable 'air_pressure_at_sea_level' contains unknown cell method 'classify'\n",
      "  warnings.warn(message=msg, category=UnknownCellMethodWarning)\n",
      "/opt/miniconda3/envs/py3_iris/lib/python3.8/site-packages/iris/fileformats/_nc_load_rules/helpers.py:223: UnknownCellMethodWarning: NetCDF variable 'air_pressure_at_sea_level' contains unknown cell method 'classify'\n",
      "  warnings.warn(message=msg, category=UnknownCellMethodWarning)\n",
      "/opt/miniconda3/envs/py3_iris/lib/python3.8/site-packages/iris/fileformats/_nc_load_rules/helpers.py:223: UnknownCellMethodWarning: NetCDF variable 'air_pressure_at_sea_level' contains unknown cell method 'classify'\n",
      "  warnings.warn(message=msg, category=UnknownCellMethodWarning)\n",
      "/opt/miniconda3/envs/py3_iris/lib/python3.8/site-packages/iris/fileformats/_nc_load_rules/helpers.py:223: UnknownCellMethodWarning: NetCDF variable 'air_pressure_at_sea_level' contains unknown cell method 'classify'\n",
      "  warnings.warn(message=msg, category=UnknownCellMethodWarning)\n",
      "/opt/miniconda3/envs/py3_iris/lib/python3.8/site-packages/iris/fileformats/_nc_load_rules/helpers.py:223: UnknownCellMethodWarning: NetCDF variable 'air_pressure_at_sea_level' contains unknown cell method 'classify'\n",
      "  warnings.warn(message=msg, category=UnknownCellMethodWarning)\n",
      "/opt/miniconda3/envs/py3_iris/lib/python3.8/site-packages/iris/fileformats/_nc_load_rules/helpers.py:223: UnknownCellMethodWarning: NetCDF variable 'air_pressure_at_sea_level' contains unknown cell method 'classify'\n",
      "  warnings.warn(message=msg, category=UnknownCellMethodWarning)\n",
      "/opt/miniconda3/envs/py3_iris/lib/python3.8/site-packages/iris/fileformats/_nc_load_rules/helpers.py:223: UnknownCellMethodWarning: NetCDF variable 'air_pressure_at_sea_level' contains unknown cell method 'classify'\n",
      "  warnings.warn(message=msg, category=UnknownCellMethodWarning)\n",
      "/opt/miniconda3/envs/py3_iris/lib/python3.8/site-packages/iris/fileformats/_nc_load_rules/helpers.py:223: UnknownCellMethodWarning: NetCDF variable 'air_pressure_at_sea_level' contains unknown cell method 'classify'\n",
      "  warnings.warn(message=msg, category=UnknownCellMethodWarning)\n",
      "/opt/miniconda3/envs/py3_iris/lib/python3.8/site-packages/iris/fileformats/_nc_load_rules/helpers.py:223: UnknownCellMethodWarning: NetCDF variable 'air_pressure_at_sea_level' contains unknown cell method 'classify'\n",
      "  warnings.warn(message=msg, category=UnknownCellMethodWarning)\n",
      "/opt/miniconda3/envs/py3_iris/lib/python3.8/site-packages/iris/fileformats/_nc_load_rules/helpers.py:223: UnknownCellMethodWarning: NetCDF variable 'air_pressure_at_sea_level' contains unknown cell method 'classify'\n",
      "  warnings.warn(message=msg, category=UnknownCellMethodWarning)\n",
      "/opt/miniconda3/envs/py3_iris/lib/python3.8/site-packages/iris/fileformats/_nc_load_rules/helpers.py:223: UnknownCellMethodWarning: NetCDF variable 'air_pressure_at_sea_level' contains unknown cell method 'classify'\n",
      "  warnings.warn(message=msg, category=UnknownCellMethodWarning)\n"
     ]
    }
   ],
   "source": [
    "wt_dir30 = wt_dir.replace('updated', 'updated30')\n",
    "fwt = os.path.join(wt_dir30, 'decider_classification_30_clusters_r001i1p*.nc')\n",
    "             \n",
    "wtypes30 = iris.load_cube(fwt)\n",
    "add_yyyymmdd(wtypes30, 'time')\n",
    "iris.coord_categorisation.add_season_year(wtypes30, 'time')\n",
    "iris.coord_categorisation.add_month_number(wtypes30, 'time')\n",
    "wtypes30.coord('time').bounds = None\n",
    "wtypes30 = wtypes30.extract(iris.Constraint(month_number=[12, 1, 2]))\n",
    "\n",
    "\n",
    "\n"
   ]
  },
  {
   "cell_type": "code",
   "execution_count": 7,
   "metadata": {},
   "outputs": [
    {
     "name": "stdout",
     "output_type": "stream",
     "text": [
      "[1100000, 1100605, 1100834, 1101113, 1101554, 1101649, 1101843, 1101935, 1102123, 1102242, 1102305, 1102335, 1102491, 1102832, 1102868] 15\n"
     ]
    }
   ],
   "source": [
    "KEEP = [1100000, 1100605, 1100834, 1101113, 1101554, 1101649,\n",
    "        1101843, 1101935, 1102123, 1102242, 1102305, 1102335,\n",
    "        1102491, 1102832, 1102868]\n",
    "# KEEP = [1100000 + int(rip[-5:]) for rip in ALLOWED_RIPS]\n",
    "print(KEEP, len(KEEP))\n",
    "\n",
    "iok = [wtypes.coord('realization').points.tolist().index(kk) for kk in KEEP]\n",
    "iok, len(iok)\n",
    "\n",
    "wtypes = wtypes[iok]\n",
    "wtypes30 = wtypes30[iok]"
   ]
  },
  {
   "cell_type": "code",
   "execution_count": 18,
   "metadata": {},
   "outputs": [
    {
     "name": "stdout",
     "output_type": "stream",
     "text": [
      "['19000101' '19000102' '19000103' '19000104' '19000105' '19000106'\n",
      " '19000107' '19000108' '19000109' '19000110']\n"
     ]
    }
   ],
   "source": [
    "# def middle_string(x, sep='|'):\n",
    "#     xs = x.split(sep)\n",
    "#     ns = len(xs)\n",
    "#     return xs[ns / 2]\n",
    "\n",
    "# jetlat = iris.load_cube('/Users/davidsexton/Data/hadgem3/coupled/jets/gcm_jets/gcm_jet_lats_r001i1p*.nc')\n",
    "# print jetlat\n",
    "# new_yyyymmdd = jetlat.coord('yyyymmdd').copy(points=[middle_string(p) for p in jetlat.coord('yyyymmdd').points])\n",
    "# jetlat.replace_coord(new_yyyymmdd)\n",
    "\n",
    "# jetlat = iris.load_cube('/Users/davidsexton/Temp/jet_lat.nc')\n",
    "# fjetlat = os.path.join(tempdir, 'jetlat.nc')\n",
    "# fjetstr = os.path.join(tempdir, 'jetstr.nc')\n",
    "\n",
    "# jetlat = iris.load_cube(fjetlat)\n",
    "# jetstr = iris.load_cube(fjetstr)\n",
    "\n",
    "\n",
    "jetlat = iris.load_cube(os.path.join(cachedir, 'jets_djf.nc'), 'jet latitude')\n",
    "jetstr = iris.load_cube(os.path.join(cachedir, 'jets_djf.nc'), 'jet strength')\n",
    "\n",
    "\n",
    "jok = [jetlat.coord('realization').points.tolist().index(kk) for kk in KEEP]\n",
    "jok, len(jok)\n",
    "jetlat = jetlat[jok]\n",
    "jetstr = jetstr[jok]\n",
    "\n",
    "\n",
    "\n",
    "\n",
    "print(jetlat.coord('yyyymmdd').points[:10])"
   ]
  },
  {
   "cell_type": "code",
   "execution_count": 19,
   "metadata": {},
   "outputs": [
    {
     "name": "stdout",
     "output_type": "stream",
     "text": [
      "['19000101' '19000102' '19000103' '19000104' '19000105' '19000106'\n",
      " '19000107' '19000108' '19000109' '19000110']\n",
      "['18991201' '18991202' '18991203' '18991204' '18991205' '18991206'\n",
      " '18991207' '18991208' '18991209' '18991210']\n",
      "air_pressure_at_sea_level / (1)     (realization: 15; time: 18000)\n",
      "    Dimension coordinates:\n",
      "        realization                             x         -\n",
      "        time                                    -         x\n",
      "    Auxiliary coordinates:\n",
      "        day                                     -         x\n",
      "        month                                   -         x\n",
      "        month_number                            -         x\n",
      "        season_year                             -         x\n",
      "        year                                    -         x\n",
      "        yyyymmdd                                -         x\n",
      "    Scalar coordinates:\n",
      "        forecast_reference_time     1896-12-01 00:00:00\n",
      "        latitude                    52.5 degrees, bound=(32.5, 72.5) degrees\n",
      "        longitude                   -5.0 degrees, bound=(-32.5, 22.5) degrees\n",
      "    Cell methods:\n",
      "        mean                        time (1 hour)\n",
      "        classify                    latitude, longitude\n",
      "    Attributes:\n",
      "        Conventions                 CF-1.5\n",
      "        source centroids            emslp_35N-70N_30W-20E_30_clusters_whole_year_anom.nc jet latitude / (degrees)            (realization: 15; time: 17970)\n",
      "    Dimension coordinates:\n",
      "        realization                             x         -\n",
      "        time                                    -         x\n",
      "    Auxiliary coordinates:\n",
      "        month                                   -         x\n",
      "        month_number                            -         x\n",
      "        season                                  -         x\n",
      "        season_year                             -         x\n",
      "        year                                    -         x\n",
      "        yyyymmdd                                -         x\n",
      "    Scalar coordinates:\n",
      "        forecast_reference_time     1896-12-01 00:00:00\n",
      "        latitude                    42.500003814697266 degrees, bound=(15.000007629394531, 70.0) degrees\n",
      "        longitude                   -30.000002548098564 degrees, bound=(-60.41667175292969, 0.4166666567325592) degrees\n",
      "        pressure                    850.0 hPa\n",
      "    Cell methods:\n",
      "        mean                        time (1 hour)\n",
      "        mean                        longitude\n",
      "        sum                         time\n",
      "        maximum                     latitude\n",
      "    Attributes:\n",
      "        Conventions                 CF-1.7\n",
      "        STASH                       m01s30i201\n",
      "        source                      Data from Met Office Unified Model\n",
      "        um_version                  10.4\n",
      "17970\n",
      "['19000101', '19000102', '19000103', '19000104', '19000105', '19000106', '19000107', '19000108', '19000109', '19000110']\n",
      "17969\n",
      "(15, 17970) (15, 18000)\n"
     ]
    },
    {
     "data": {
      "text/plain": [
       "(<iris 'Cube' of air_pressure_at_sea_level / (1) (realization: 15; time: 17970)>,\n",
       " <iris 'Cube' of jet latitude / (degrees) (realization: 15; time: 17970)>)"
      ]
     },
     "execution_count": 19,
     "metadata": {},
     "output_type": "execute_result"
    }
   ],
   "source": [
    "print(jetlat.coord('yyyymmdd').points[:10])\n",
    "print(wtypes.coord('yyyymmdd').points[:10])\n",
    "print(wtypes, jetlat)\n",
    "\n",
    "common_yyyymmdd = sorted(set(wtypes.coord('yyyymmdd').points.tolist()).intersection(jetlat.coord('yyyymmdd').points))\n",
    "print(len(common_yyyymmdd))\n",
    "print(common_yyyymmdd[:10])\n",
    "print(get_index2(jetlat.coord('yyyymmdd').points.tolist(), common_yyyymmdd)[-1])\n",
    "print(jetlat.shape, wtypes.shape)\n",
    "\n",
    "jetlat_ = jetlat[:,get_index2(jetlat.coord('yyyymmdd').points.tolist(), common_yyyymmdd)]\n",
    "wtypes_ = wtypes[:,get_index2(wtypes.coord('yyyymmdd').points.tolist(), common_yyyymmdd)]\n",
    "\n",
    "wtypes_, jetlat_\n",
    "\n",
    "# plot_composite(cube, 1, [0, 47.5], title='NAO- (southern jet)')\n",
    "# plt.subplot(223)\n",
    "# plot_composite(cube, 1, [47.5, 57.5], title='NAO- (central jet)')\n",
    "# plt.subplot(224)\n",
    "# plot_composite(cube, 1, [57.5, 90], title='NAO- (northern jet)')\n",
    "\n"
   ]
  },
  {
   "cell_type": "code",
   "execution_count": 20,
   "metadata": {},
   "outputs": [
    {
     "name": "stdout",
     "output_type": "stream",
     "text": [
      "air_pressure_at_sea_level / (1)     (realization: 15; time: 17970)\n",
      "    Dimension coordinates:\n",
      "        realization                             x         -\n",
      "        time                                    -         x\n",
      "    Auxiliary coordinates:\n",
      "        day                                     -         x\n",
      "        month                                   -         x\n",
      "        month_number                            -         x\n",
      "        season_year                             -         x\n",
      "        year                                    -         x\n",
      "        yyyymmdd                                -         x\n",
      "    Scalar coordinates:\n",
      "        forecast_reference_time     1896-12-01 00:00:00\n",
      "        latitude                    52.5 degrees, bound=(32.5, 72.5) degrees\n",
      "        longitude                   -5.0 degrees, bound=(-32.5, 22.5) degrees\n",
      "    Cell methods:\n",
      "        mean                        time (1 hour)\n",
      "        classify                    latitude, longitude\n",
      "    Attributes:\n",
      "        Conventions                 CF-1.5\n",
      "        source centroids            emslp_35N-70N_30W-20E_30_clusters_whole_year_anom.nc jet latitude / (degrees)            (realization: 15; time: 17970)\n",
      "    Dimension coordinates:\n",
      "        realization                             x         -\n",
      "        time                                    -         x\n",
      "    Auxiliary coordinates:\n",
      "        month                                   -         x\n",
      "        month_number                            -         x\n",
      "        season                                  -         x\n",
      "        season_year                             -         x\n",
      "        year                                    -         x\n",
      "        yyyymmdd                                -         x\n",
      "    Scalar coordinates:\n",
      "        forecast_reference_time     1896-12-01 00:00:00\n",
      "        latitude                    42.500003814697266 degrees, bound=(15.000007629394531, 70.0) degrees\n",
      "        longitude                   -30.000002548098564 degrees, bound=(-60.41667175292969, 0.4166666567325592) degrees\n",
      "        pressure                    850.0 hPa\n",
      "    Cell methods:\n",
      "        mean                        time (1 hour)\n",
      "        mean                        longitude\n",
      "        sum                         time\n",
      "        maximum                     latitude\n",
      "    Attributes:\n",
      "        Conventions                 CF-1.7\n",
      "        STASH                       m01s30i201\n",
      "        source                      Data from Met Office Unified Model\n",
      "        um_version                  10.4\n"
     ]
    },
    {
     "data": {
      "text/plain": [
       "<matplotlib.colorbar.Colorbar at 0x7fd6e6761d60>"
      ]
     },
     "execution_count": 20,
     "metadata": {},
     "output_type": "execute_result"
    },
    {
     "data": {
      "image/png": "[encoded data removed]",
      "text/plain": [
       "<Figure size 576x288 with 2 Axes>"
      ]
     },
     "metadata": {
      "needs_background": "light"
     },
     "output_type": "display_data"
    }
   ],
   "source": [
    "print(wtypes_, jetlat_)\n",
    "xbin = [0.5, 1.5, 2.5, 3.5, 4.5, 5.5, 6.5, 7.5, 8.5]\n",
    "ybin = numpy.linspace(10, 70, num=25)\n",
    "bin2d, x_edge, y_edge, binnumber = scipy.stats.binned_statistic_2d(wtypes_.data.ravel(), jetlat_.data.ravel(), None, statistic='count',\n",
    "                                                                   bins=(xbin, ybin))\n",
    "\n",
    "x0 = (x_edge[1:] + x_edge[:-1]) * 0.5\n",
    "y0 = (y_edge[1:] + y_edge[:-1]) * 0.5\n",
    "\n",
    "vmax = bin2d.max()\n",
    "\n",
    "fig = plt.figure(figsize=(8, 4))\n",
    "plt.subplot(121)\n",
    "plt.pcolormesh(x_edge, y_edge, bin2d.T, vmin=0, vmax=vmax)\n",
    "plt.colorbar()\n",
    "\n"
   ]
  },
  {
   "cell_type": "code",
   "execution_count": 21,
   "metadata": {},
   "outputs": [],
   "source": [
    "jetstr_ = jetstr[:,get_index2(jetstr.coord('yyyymmdd').points.tolist(), common_yyyymmdd)]\n",
    "\n"
   ]
  },
  {
   "cell_type": "code",
   "execution_count": 22,
   "metadata": {},
   "outputs": [
    {
     "name": "stdout",
     "output_type": "stream",
     "text": [
      "[10.  12.5 15.  17.5 20.  22.5 25.  27.5 30.  32.5 35.  37.5 40.  42.5\n",
      " 45.  47.5 50.  52.5 55.  57.5 60.  62.5 65.  67.5 70. ]\n",
      "(15, 17970)\n",
      "(15, 17970)\n",
      "(15, 17970)\n",
      "(15, 17970)\n",
      "(15, 17970)\n",
      "(15, 17970)\n",
      "(15, 17970)\n",
      "(15, 17970)\n"
     ]
    },
    {
     "data": {
      "image/png": "[encoded data removed]",
      "text/plain": [
       "<Figure size 493.228x576 with 16 Axes>"
      ]
     },
     "metadata": {
      "needs_background": "light"
     },
     "output_type": "display_data"
    }
   ],
   "source": [
    "WT_names_dict = {'WT1':'Northerly',\n",
    "                 'WT2':'Westerly',\n",
    "                 'WT3':'Northwesterly',\n",
    "                 'WT4':'Southwesterly',\n",
    "                 'WT5':'Scandinavian High',\n",
    "                 'WT6':'UK High',\n",
    "                 'WT7':'UK Low',\n",
    "                 'WT8':'Azores High'}\n",
    "\n",
    "##### latbin = numpy.linspace(25, 75, num=21)\n",
    "latbin = ybin\n",
    "print(latbin)\n",
    "strbin = numpy.linspace(0, 25, num=26)\n",
    "\n",
    "fig = plt.figure(figsize=(174/25.4, 8))\n",
    "plt.subplots_adjust(wspace=0.5, hspace=0.7)\n",
    "for wt in [1, 2, 3, 4, 5, 6, 7, 8]:\n",
    "    wt_titl='WT%.1i' % wt\n",
    "    plt.subplot(4, 2, wt)\n",
    "    index = numpy.where(wtypes_.data == wt)\n",
    "    print(wtypes_.shape)\n",
    "    # jetlat_.data[index].shape\n",
    "    freq, _x, _y, _binnumber = scipy.stats.binned_statistic_2d(jetlat_.data[index], jetstr_.data[index], jetstr_.data[index],\n",
    "                                                                                       bins=(latbin, strbin),\n",
    "                                                                                       statistic='count')\n",
    "\n",
    "    vmax, lw = 0.025, 1\n",
    "    freq /= freq.sum()\n",
    "\n",
    "    plt.pcolormesh(_y, _x, freq, vmin=0, vmax=vmax, cmap='GnBu')\n",
    "    plt.axhline(y=42, color='r', linestyle=':', linewidth=lw)\n",
    "    plt.axhline(y=52, color='r', linestyle=':', linewidth=lw)\n",
    "    plt.title('%s (%s)' % (wt_titl, WT_names_dict[wt_titl]))\n",
    "    plt.colorbar()\n",
    "    if wt == 5:\n",
    "        plt.ylabel(u'Jet latitude [\\xb0]', y=1.5)#, loc='top')\n",
    "    if wt == 7:\n",
    "        plt.xlabel('Jet speed [m/s]', x=1.5)\n",
    "\n",
    "    \n",
    "fig.savefig(os.path.join(figpath, 'Wtype_clusters_jet_v_wt_full_period.png'), dpi=300)\n",
    "fig.savefig(os.path.join(figpath, 'Fig6.png'), dpi=300, facecolor='w')\n",
    "fig.savefig(os.path.join(figpath, 'Fig6.tiff'), dpi=300, facecolor='w')\n",
    "\n",
    "\n",
    "\n"
   ]
  }
 ],
 "metadata": {
  "kernelspec": {
   "display_name": "Python 3 (ipykernel)",
   "language": "python",
   "name": "python3"
  },
  "language_info": {
   "codemirror_mode": {
    "name": "ipython",
    "version": 3
   },
   "file_extension": ".py",
   "mimetype": "text/x-python",
   "name": "python",
   "nbconvert_exporter": "python",
   "pygments_lexer": "ipython3",
   "version": "3.8.12"
  }
 },
 "nbformat": 4,
 "nbformat_minor": 1
}
